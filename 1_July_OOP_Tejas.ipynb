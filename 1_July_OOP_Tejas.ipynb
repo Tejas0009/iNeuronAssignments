{
 "cells": [
  {
   "cell_type": "markdown",
   "id": "9bc05461-0e7a-410a-bbe2-475266f8bb75",
   "metadata": {},
   "source": [
    "## What is Primary Goal Of Object Oriented Programming\n",
    "To hold entire data into a single object such that it would be easy to pass this to other methods and objects.\n",
    "\n",
    "## What is Object?\n",
    "Instance of a class.Anything in the class which class use to define or functioning.\n",
    "\n",
    "## What is Class?\n",
    "Class is a BluePrint of an Object. "
   ]
  },
  {
   "cell_type": "markdown",
   "id": "0c18919d-454f-4e56-abfa-1e66addf920b",
   "metadata": {},
   "source": [
    "## 4.What are attributes and methods in a class?  \n",
    " Attributes are variables that hold data associated with an object. They represent the state or properties of an object. Attributes store information that describes the object's\n",
    "characteristics. Each object created from a class can have its own set of attribute values.\n",
    "\n",
    "Attributes are variables that hold data associated with an object. They represent the state or properties of an object. Attributes store information that describes the object's\n",
    "characteristics. Each object created from a class can have its own set of attribute values.\n"
   ]
  },
  {
   "cell_type": "markdown",
   "id": "4a718b67-24aa-4927-87cb-74d9cbd5cbbe",
   "metadata": {},
   "source": [
    "### 5.What is the difference between class variables and instance variables in Python?\n",
    "Class variables are variables that are shared among all instances (objects) of a class. They are defined within the class but outside of any methods. Class variables are associated with the class itself rather than individual instances.\n",
    "\n",
    "Instance variables are specific to each instance (object) of a class. They are defined within the methods of a class, particularly in the constructor method (__init__). Instance variables hold unique data for each instance.\n"
   ]
  },
  {
   "cell_type": "markdown",
   "id": "1b1f7c30-ea72-417c-89f7-4eed56e0cfbf",
   "metadata": {},
   "source": [
    "### 6. What is the purpose of the self parameter in Python class methods?\n",
    "The self parameter in Python class methods provides a reference to the specific instance of the class. It enables methods to access and manipulate instance variables and perform actions specific to the object on which the method is called."
   ]
  },
  {
   "cell_type": "markdown",
   "id": "72862a94-c420-4584-8284-01bc25ad9372",
   "metadata": {
    "tags": []
   },
   "source": [
    "### 7. For a library management system, you have to design the \"Book\" class with OOP principles in mind. The “Book” class will have following attributes: \n",
    "    a. title: Represents the title of the book. \n",
    "    b. author: Represents the author(s) of the book. \n",
    "    c. isbn: Represents the ISBN (International Standard Book Number) of the book. \n",
    "    d. publication_year: Represents the year of publication of the book. \n",
    "    e. available_copies: Represents the number of copies available for checkout. \n",
    "    The class will also include the following methods: \n",
    "                        a. check_out(self): Decrements the available copies by one if there are copies available for checkout. \n",
    "                        b. return_book(self): Increments the available copies by one when a book is returned. \n",
    "                        c. display_book_info(self): Displays the information about the book, including its attributes and the number of available    copies. "
   ]
  },
  {
   "cell_type": "code",
   "execution_count": 1,
   "id": "bf5e8e22-7851-4c2e-8881-8a10d76705a4",
   "metadata": {},
   "outputs": [],
   "source": [
    "class Book:\n",
    "    def __init__(self,title,author,isbn,publication_year,available_copies):\n",
    "        self.title=title\n",
    "        self.author=author\n",
    "        self.isbn=isbn\n",
    "        self.publication_year=publication_year\n",
    "        self.available_copies=available_copies\n",
    "        \n",
    "    def check_out(self):\n",
    "        if self.available_copies > 0:\n",
    "            self.available_copies -= 1\n",
    "        \n",
    "    def return_book(self,available_copies):\n",
    "        self.available_copies += 1\n",
    "        \n",
    "    def display_book_info(self):\n",
    "        print(\"title:\",self.title)\n",
    "        print(\"author:\",self.author)\n",
    "        print(\"isbn:\",self.isbn)\n",
    "        print(\"publication_year:\",self.publication_year)\n",
    "        print(\"available_copies:\",self.available_copies)\n",
    "        "
   ]
  },
  {
   "cell_type": "markdown",
   "id": "1835dbb4-3e59-47e6-aeb7-bd34575e6787",
   "metadata": {
    "tags": []
   },
   "source": [
    "### 8. For a ticket booking system, you have to design the \"Ticket\" class with OOP principles in mind. The “Ticket” class should have the following attributes: \n",
    "                      a. ticket_id: Represents the unique identifier for the ticket. \n",
    "                      b. event_name: Represents the name of the event. \n",
    "                      c. event_date: Represents the date of the event. \n",
    "                      d. venue: Represents the venue of the event. \n",
    "                      e. seat_number: Represents the seat number associated with the ticket. \n",
    "                      f. price: Represents the price of the ticket. \n",
    "                      g. is_reserved: Represents the reservation status of the ticket. \n",
    "    The class also includes the following methods: \n",
    "    a. reserve_ticket(self): Marks the ticket as reserved if it is not already reserved. \n",
    "    b. cancel_reservation(self): Cancels the reservation of the ticket if it is already reserved. \n",
    "    c. display_ticket_info(self): Displays the information about the ticket, including its attributes and reservation status."
   ]
  },
  {
   "cell_type": "code",
   "execution_count": 7,
   "id": "34c1653e-23c1-4352-b510-53b20884e77c",
   "metadata": {},
   "outputs": [],
   "source": [
    "class Ticket:\n",
    "    def __init__(self, ticket_id, event_name, event_date, venue, seat_number, price):\n",
    "        self.ticket_id = ticket_id\n",
    "        self.event_name = event_name\n",
    "        self.event_date = event_date\n",
    "        self.venue = venue\n",
    "        self.seat_number = seat_number\n",
    "        self.price = price\n",
    "        self.is_reserved = False\n",
    "\n",
    "    def reserve_ticket(self):\n",
    "        if (self.is_reserved == True):\n",
    "            print(\"Ticket reserved successfully.\")\n",
    "        else:\n",
    "            print(\"Ticket is already reserved.\")\n",
    "\n",
    "    def cancel_reservation(self):\n",
    "        if (self.is_reserved == False):\n",
    "            print(\"Reservation cancelled successfully.\")\n",
    "        else:\n",
    "            print(\"Ticket is not reserved.\")\n",
    "\n",
    "    def display_ticket_info(self):\n",
    "        print(f\"Ticket ID: {self.ticket_id}\")\n",
    "        print(f\"Event Name: {self.event_name}\")\n",
    "        print(f\"Event Date: {self.event_date}\")\n",
    "        print(f\"Venue: {self.venue}\")\n",
    "        print(f\"Seat Number: {self.seat_number}\")\n",
    "        print(f\"Price: {self.price}\")\n",
    "        print(f\"Reservation Status: {'Reserved' if self.is_reserved else 'Not Reserved'}\")"
   ]
  },
  {
   "cell_type": "markdown",
   "id": "84f91d92-715b-44ae-8dfe-a381d16980f2",
   "metadata": {},
   "source": [
    "### 9. You are creating a shopping cart for an e-commerce website. Using OOP to model the \"ShoppingCart\" functionality the class should contain following attributes and methods: \n",
    "    a. items: Represents the list of items in the shopping cart. \n",
    "    The class also includes the following methods:\n",
    "        a. add_item(self, item): Adds an item to the shopping cart by appending it to the list of items. \n",
    "        b. remove_item(self, item): Removes an item from the shopping cart if it exists in the list. \n",
    "        c. view_cart(self): Displays the items currently present in the shopping cart. \n",
    "        d. clear_cart(self): Clears all items from the shopping cart by reassigning an empty list to the items attribute."
   ]
  },
  {
   "cell_type": "code",
   "execution_count": 20,
   "id": "e2dc22bf-a0c2-43b9-b6fb-8b439bd4281d",
   "metadata": {},
   "outputs": [],
   "source": [
    "class Shoppingcart:\n",
    "  def __init__(self):\n",
    "    self.items= []\n",
    "\n",
    "  def add_item(self, item):\n",
    "    self.items.append(item)\n",
    "    print(f\"{item} added to the shopping cart.\")\n",
    "\n",
    "  def remove_item(self, item):\n",
    "    if item in self.items:\n",
    "      self.items.remove(item);\n",
    "      print(f\" {item}remove from shopping cart \")\n",
    "    else:\n",
    "      print(f\" {item}not  exist in the cart\")\n",
    "\n",
    "  def view_cart(self):\n",
    "    if self.items:\n",
    "      print(\"Items in the shopping cart:\")\n",
    "      for item in self.items:\n",
    "        print(f\"- {item}\")\n",
    "    else:\n",
    "      print(\"shopping cart is empty\");\n",
    "\n",
    "  def clear_cart(self):\n",
    "    self.items = [];\n",
    "    print(\"shopping cart is clear\");"
   ]
  },
  {
   "cell_type": "code",
   "execution_count": null,
   "id": "1a6ee967-6040-4af7-b7db-fd3c7ba49f9c",
   "metadata": {},
   "outputs": [],
   "source": []
  },
  {
   "cell_type": "markdown",
   "id": "3ad66141-153c-40b7-914c-699977a8a5b6",
   "metadata": {},
   "source": [
    "### 10. Imagine a school management system. You have to design the \"Student\" class using OOP concepts.The “Student” class has the following attributes: \n",
    "    a. name: Represents the name of the student. \n",
    "    b. age: Represents the age of the student. \n",
    "    c. grade: Represents the grade or class of the student. \n",
    "    d. student_id: Represents the unique identifier for the student. \n",
    "    e. attendance: Represents the attendance record of the student. \n",
    "        The class should also include the following methods: \n",
    "        a. update_attendance(self, date, status): Updates the attendance record of the student for a given date with the provided status (e.g., present or absent). \n",
    "        b. get_attendance(self): Returns the attendance record of the student. \n",
    "        c. get_average_attendance(self): Calculates and returns the average attendance percentage of the student based on their attendance record."
   ]
  },
  {
   "cell_type": "code",
   "execution_count": null,
   "id": "50355fa6-b451-473c-b35a-89c204b7da6a",
   "metadata": {},
   "outputs": [],
   "source": [
    "class Student:\n",
    "  def __init__(self,name,age,grade,student_id):\n",
    "    self.name=name;\n",
    "    self.age=age;\n",
    "    self.grade=grade;\n",
    "    self.student_id=student_id;\n",
    "    self.attendance={};\n",
    "\n",
    "  def update_attendance(self, date, status):\n",
    "    self.attendance[date] = status\n",
    "\n",
    "  def get_attendance(self):\n",
    "    return self.attendance\n",
    "\n",
    "  def get_average_attendance(self):\n",
    "    total_days = len(self.attendance)\n",
    "    print(total_days)\n",
    "    present_days = sum(status == \"present\" for status in self.attendance.values())\n",
    "    if total_days > 0:\n",
    "      average_attendance = (present_days / total_days) * 100\n",
    "      return average_attendance\n",
    "    else:\n",
    "      return 0"
   ]
  }
 ],
 "metadata": {
  "kernelspec": {
   "display_name": "Python 3 (ipykernel)",
   "language": "python",
   "name": "python3"
  },
  "language_info": {
   "codemirror_mode": {
    "name": "ipython",
    "version": 3
   },
   "file_extension": ".py",
   "mimetype": "text/x-python",
   "name": "python",
   "nbconvert_exporter": "python",
   "pygments_lexer": "ipython3",
   "version": "3.10.6"
  }
 },
 "nbformat": 4,
 "nbformat_minor": 5
}
